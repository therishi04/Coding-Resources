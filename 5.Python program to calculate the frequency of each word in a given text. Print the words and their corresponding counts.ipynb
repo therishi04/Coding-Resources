{
 "cells": [
  {
   "cell_type": "markdown",
   "metadata": {},
   "source": [
    "Write a Python program to calculate the frequency of each word in a given text. Print the words and their corresponding counts"
   ]
  },
  {
   "cell_type": "code",
   "execution_count": 2,
   "metadata": {},
   "outputs": [
    {
     "name": "stdout",
     "output_type": "stream",
     "text": [
      "this: 2\n",
      "is: 1\n",
      "an: 1\n",
      "example: 1\n",
      "text.: 1\n",
      "text: 1\n",
      "contains: 1\n",
      "some: 1\n",
      "words: 1\n",
      "that: 1\n",
      "are: 1\n",
      "repeated.: 1\n"
     ]
    }
   ],
   "source": [
    "def calculate_word_frequencies(text):\n",
    "  \"\"\"\n",
    "  Calculates the frequency of each word in a given text.\n",
    "\n",
    "  Args:\n",
    "    text: The input text.\n",
    "\n",
    "  Returns:\n",
    "    A dictionary where keys are words and values are their frequencies.\n",
    "  \"\"\"\n",
    "  words = text.split()\n",
    "  word_counts = {}\n",
    "  for word in words:\n",
    "    word = word.lower()  # Convert to lowercase for case-insensitive counting\n",
    "    if word in word_counts:\n",
    "      word_counts[word] += 1\n",
    "    else:\n",
    "      word_counts[word] = 1\n",
    "  return word_counts\n",
    "\n",
    "# Example usage:\n",
    "text = \"This is an example text. This text contains some words that are repeated.\"\n",
    "word_frequencies = calculate_word_frequencies(text)\n",
    "\n",
    "# Print the results\n",
    "for word, count in word_frequencies.items():\n",
    "  print(f\"{word}: {count}\")"
   ]
  }
 ],
 "metadata": {
  "kernelspec": {
   "display_name": "Python 3",
   "language": "python",
   "name": "python3"
  },
  "language_info": {
   "codemirror_mode": {
    "name": "ipython",
    "version": 3
   },
   "file_extension": ".py",
   "mimetype": "text/x-python",
   "name": "python",
   "nbconvert_exporter": "python",
   "pygments_lexer": "ipython3",
   "version": "3.12.4"
  }
 },
 "nbformat": 4,
 "nbformat_minor": 2
}

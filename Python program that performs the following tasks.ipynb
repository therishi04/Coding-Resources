{
 "cells": [
  {
   "cell_type": "markdown",
   "metadata": {},
   "source": [
    "1)Write a Python program that performs the following tasks:\n",
    "\n",
    "1. Ask the user to enter a positive integer n.\n",
    "2. Use a for loop to print all numbers from 1 to n on separate lines.\n",
    "3. Use a while loop to calculate the sum of all numbers from 1 to n and print the result."
   ]
  },
  {
   "cell_type": "code",
   "execution_count": 3,
   "metadata": {},
   "outputs": [
    {
     "name": "stdout",
     "output_type": "stream",
     "text": [
      "Numbers from 1 to 22 :\n",
      "1\n",
      "2\n",
      "3\n",
      "4\n",
      "5\n",
      "6\n",
      "7\n",
      "8\n",
      "9\n",
      "10\n",
      "11\n",
      "12\n",
      "13\n",
      "14\n",
      "15\n",
      "16\n",
      "17\n",
      "18\n",
      "19\n",
      "20\n",
      "21\n",
      "22\n",
      "The sum of numbers from 1 to 22 is: 253\n"
     ]
    }
   ],
   "source": [
    "# Task 1: Print numbers and calculate their sum\n",
    "# Ask the user for a positive integer\n",
    "n = int(input(\"Enter a positive integer: \"))\n",
    "\n",
    "# Check if the input is valid\n",
    "if n > 0:\n",
    "    # Use a for loop to print numbers from 1 to n\n",
    "    print(\"Numbers from 1 to\", n, \":\")\n",
    "    for i in range(1, n + 1):\n",
    "        print(i)\n",
    "\n",
    "    # Use a while loop to calculate the sum of numbers from 1 to n\n",
    "    sum_numbers = 0\n",
    "    i = 1\n",
    "    while i <= n:\n",
    "        sum_numbers += i\n",
    "        i += 1\n",
    "\n",
    "    # Print the result\n",
    "    print(\"The sum of numbers from 1 to\", n, \"is:\", sum_numbers)\n",
    "else:\n",
    "    print(\"Please enter a positive integer.\")\n"
   ]
  },
  {
   "cell_type": "code",
   "execution_count": 4,
   "metadata": {},
   "outputs": [
    {
     "name": "stdout",
     "output_type": "stream",
     "text": [
      "The square of 22 is 484.\n"
     ]
    },
    {
     "data": {
      "text/plain": [
       "44"
      ]
     },
     "execution_count": 4,
     "metadata": {},
     "output_type": "execute_result"
    }
   ],
   "source": [
    "# Task 2: Function to calculate the square of a number\n",
    "# Define the function\n",
    "def calculate_square(n):\n",
    "    return n ** 2\n",
    "\n",
    "# Main program\n",
    "# Ask the user for a positive integer\n",
    "user_input = int(input(\"Enter a positive integer: \"))\n",
    "\n",
    "# Check if the input is valid\n",
    "if user_input > 0:\n",
    "    # Call the function and display the result\n",
    "    result = calculate_square(user_input)\n",
    "    print(f\"The square of {user_input} is {result}.\")\n",
    "else:\n",
    "    print(\"Please enter a positive integer.\")\n",
    "44\n"
   ]
  },
  {
   "cell_type": "markdown",
   "metadata": {},
   "source": [
    "2)Write a Python program that includes a user-defined function to perform the following tasks:\n",
    "\n",
    "1. Define a function named calculate_square that takes a single argument n and returns the square of n.\n",
    "2. In the main program, ask the user to input a positive integer.\n",
    "3. Call the calculate_square function with the user-provided number and display the result."
   ]
  },
  {
   "cell_type": "code",
   "execution_count": 5,
   "metadata": {},
   "outputs": [
    {
     "name": "stdout",
     "output_type": "stream",
     "text": [
      "Numbers from 1 to 12 :\n",
      "1\n",
      "2\n",
      "3\n",
      "4\n",
      "5\n",
      "6\n",
      "7\n",
      "8\n",
      "9\n",
      "10\n",
      "11\n",
      "12\n",
      "The sum of numbers from 1 to 12 is: 78\n"
     ]
    }
   ],
   "source": [
    "# Task 1: Print numbers and calculate their sum\n",
    "# Ask the user for a positive integer\n",
    "n = int(input(\"Enter a positive integer: \"))\n",
    "\n",
    "# Check if the input is valid\n",
    "if n > 0:\n",
    "    # Use a for loop to print numbers from 1 to n\n",
    "    print(\"Numbers from 1 to\", n, \":\")\n",
    "    for i in range(1, n + 1):\n",
    "        print(i)\n",
    "\n",
    "    # Use a while loop to calculate the sum of numbers from 1 to n\n",
    "    sum_numbers = 0\n",
    "    i = 1\n",
    "    while i <= n:\n",
    "        sum_numbers += i\n",
    "        i += 1\n",
    "\n",
    "    # Print the result\n",
    "    print(\"The sum of numbers from 1 to\", n, \"is:\", sum_numbers)\n",
    "else:\n",
    "    print(\"Please enter a positive integer.\")\n"
   ]
  },
  {
   "cell_type": "code",
   "execution_count": 6,
   "metadata": {},
   "outputs": [
    {
     "name": "stdout",
     "output_type": "stream",
     "text": [
      "The square of 6 is 36.\n"
     ]
    }
   ],
   "source": [
    "# Task 2: Function to calculate the square of a number\n",
    "# Define the function\n",
    "def calculate_square(n):\n",
    "    return n ** 2\n",
    "\n",
    "# Main program\n",
    "# Ask the user for a positive integer\n",
    "user_input = int(input(\"Enter a positive integer: \"))\n",
    "\n",
    "# Check if the input is valid\n",
    "if user_input > 0:\n",
    "    # Call the function and display the result\n",
    "    result = calculate_square(user_input)\n",
    "    print(f\"The square of {user_input} is {result}.\")\n",
    "else:\n",
    "    print(\"Please enter a positive integer.\")\n"
   ]
  }
 ],
 "metadata": {
  "kernelspec": {
   "display_name": "Python 3",
   "language": "python",
   "name": "python3"
  },
  "language_info": {
   "codemirror_mode": {
    "name": "ipython",
    "version": 3
   },
   "file_extension": ".py",
   "mimetype": "text/x-python",
   "name": "python",
   "nbconvert_exporter": "python",
   "pygments_lexer": "ipython3",
   "version": "3.12.4"
  }
 },
 "nbformat": 4,
 "nbformat_minor": 2
}

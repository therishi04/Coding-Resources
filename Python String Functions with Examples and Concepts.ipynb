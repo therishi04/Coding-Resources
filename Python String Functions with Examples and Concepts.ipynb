{
 "cells": [
  {
   "cell_type": "code",
   "execution_count": 2,
   "metadata": {},
   "outputs": [
    {
     "name": "stdout",
     "output_type": "stream",
     "text": [
      "Python programming\n"
     ]
    }
   ],
   "source": [
    "# Function 1: capitalize()\n",
    "# Concept: Converts the first character of the string to uppercase and the rest to lowercase.\n",
    "# Example Question: Capitalize the string 'python programming'.\n",
    "text = 'python programming'\n",
    "result = text.capitalize()\n",
    "print(result)"
   ]
  },
  {
   "cell_type": "code",
   "execution_count": 3,
   "metadata": {},
   "outputs": [
    {
     "name": "stdout",
     "output_type": "stream",
     "text": [
      "python is fun\n"
     ]
    }
   ],
   "source": [
    "# Function 2: casefold()\n",
    "# Concept: Converts the string to lowercase, more aggressive than lower().\n",
    "# Example Question: Convert 'PYTHON IS FUN' to lowercase.\n",
    "text = 'PYTHON IS FUN'\n",
    "result = text.casefold()\n",
    "print(result)"
   ]
  },
  {
   "cell_type": "code",
   "execution_count": 4,
   "metadata": {},
   "outputs": [
    {
     "name": "stdout",
     "output_type": "stream",
     "text": [
      "   data   \n"
     ]
    }
   ],
   "source": [
    "# Function 3: center()\n",
    "# Concept: Centers the string in a field of the specified width, padding with spaces.\n",
    "# Example Question: Center the string 'data' in a field of width 10.\n",
    "text = 'data'\n",
    "result = text.center(10)\n",
    "print(result)"
   ]
  },
  {
   "cell_type": "code",
   "execution_count": 5,
   "metadata": {},
   "outputs": [
    {
     "name": "stdout",
     "output_type": "stream",
     "text": [
      "3\n"
     ]
    }
   ],
   "source": [
    "# Function 4: count()\n",
    "# Concept: Returns the number of non-overlapping occurrences of a substring.\n",
    "# Example Question: Count occurrences of 'a' in 'banana'.\n",
    "text = 'banana'\n",
    "result = text.count('a')\n",
    "print(result)"
   ]
  },
  {
   "cell_type": "code",
   "execution_count": 6,
   "metadata": {},
   "outputs": [
    {
     "name": "stdout",
     "output_type": "stream",
     "text": [
      "True\n"
     ]
    }
   ],
   "source": [
    "# Function 5: endswith()\n",
    "# Concept: Checks if the string ends with the specified suffix.\n",
    "# Example Question: Check if 'report.pdf' ends with '.pdf'.\n",
    "text = 'report.pdf'\n",
    "result = text.endswith('.pdf')\n",
    "print(result)"
   ]
  },
  {
   "cell_type": "code",
   "execution_count": 7,
   "metadata": {},
   "outputs": [
    {
     "name": "stdout",
     "output_type": "stream",
     "text": [
      "6\n"
     ]
    }
   ],
   "source": [
    "# Function 6: find()\n",
    "# Concept: Returns the lowest index where a substring is found, or -1 if not found.\n",
    "# Example Question: Find the index of 'world' in 'hello world'.\n",
    "text = 'hello world'\n",
    "result = text.find('world')\n",
    "print(result)"
   ]
  },
  {
   "cell_type": "code",
   "execution_count": 8,
   "metadata": {},
   "outputs": [
    {
     "name": "stdout",
     "output_type": "stream",
     "text": [
      "False\n"
     ]
    }
   ],
   "source": [
    "# Function 7: isalpha()\n",
    "# Concept: Returns True if all characters in the string are alphabetic.\n",
    "# Example Question: Check if 'hello123' contains only alphabetic characters.\n",
    "text = 'hello123'\n",
    "result = text.isalpha()\n",
    "print(result)"
   ]
  },
  {
   "cell_type": "code",
   "execution_count": 9,
   "metadata": {},
   "outputs": [
    {
     "name": "stdout",
     "output_type": "stream",
     "text": [
      "True\n"
     ]
    }
   ],
   "source": [
    "# Function 8: isdigit()\n",
    "# Concept: Returns True if all characters in the string are digits.\n",
    "# Example Question: Check if '12345' contains only digits.\n",
    "text = '12345'\n",
    "result = text.isdigit()\n",
    "print(result)"
   ]
  },
  {
   "cell_type": "code",
   "execution_count": 10,
   "metadata": {},
   "outputs": [
    {
     "name": "stdout",
     "output_type": "stream",
     "text": [
      "apple-banana-cherry\n"
     ]
    }
   ],
   "source": [
    "# Function 9: join()\n",
    "# Concept: Joins elements of an iterable into a single string, separated by the string.\n",
    "# Example Question: Join ['apple', 'banana', 'cherry'] with '-'.\n",
    "separator = '-'\n",
    "result = separator.join(['apple', 'banana', 'cherry'])\n",
    "print(result)"
   ]
  },
  {
   "cell_type": "code",
   "execution_count": 11,
   "metadata": {},
   "outputs": [
    {
     "name": "stdout",
     "output_type": "stream",
     "text": [
      "hello\n"
     ]
    }
   ],
   "source": [
    "# Function 10: lower()\n",
    "# Concept: Converts all characters in the string to lowercase.\n",
    "# Example Question: Convert 'HELLO' to lowercase.\n",
    "text = 'HELLO'\n",
    "result = text.lower()\n",
    "print(result)"
   ]
  },
  {
   "cell_type": "code",
   "execution_count": 12,
   "metadata": {},
   "outputs": [
    {
     "name": "stdout",
     "output_type": "stream",
     "text": [
      "bonono\n"
     ]
    }
   ],
   "source": [
    "# Function 11: replace()\n",
    "# Concept: Replaces occurrences of a substring with another substring.\n",
    "# Example Question: Replace 'a' with 'o' in 'banana'.\n",
    "text = 'banana'\n",
    "result = text.replace('a', 'o')\n",
    "print(result)"
   ]
  },
  {
   "cell_type": "code",
   "execution_count": 13,
   "metadata": {},
   "outputs": [
    {
     "name": "stdout",
     "output_type": "stream",
     "text": [
      "['a', 'b', 'c']\n"
     ]
    }
   ],
   "source": [
    "# Function 12: split()\n",
    "# Concept: Splits the string into a list using the specified separator.\n",
    "# Example Question: Split 'a,b,c' into a list using ','.\n",
    "text = 'a,b,c'\n",
    "result = text.split(',')\n",
    "print(result)"
   ]
  },
  {
   "cell_type": "code",
   "execution_count": 14,
   "metadata": {},
   "outputs": [
    {
     "name": "stdout",
     "output_type": "stream",
     "text": [
      "True\n"
     ]
    }
   ],
   "source": [
    "# Function 13: startswith()\n",
    "# Concept: Checks if the string starts with the specified prefix.\n",
    "# Example Question: Check if 'hello world' starts with 'hello'.\n",
    "text = 'hello world'\n",
    "result = text.startswith('hello')\n",
    "print(result)"
   ]
  },
  {
   "cell_type": "code",
   "execution_count": 15,
   "metadata": {},
   "outputs": [
    {
     "name": "stdout",
     "output_type": "stream",
     "text": [
      "hello\n"
     ]
    }
   ],
   "source": [
    "# Function 14: strip()\n",
    "# Concept: Removes leading and trailing spaces or specified characters.\n",
    "# Example Question: Remove spaces from '  hello  '.\n",
    "text = '  hello  '\n",
    "result = text.strip()\n",
    "print(result)"
   ]
  },
  {
   "cell_type": "code",
   "execution_count": 16,
   "metadata": {},
   "outputs": [
    {
     "name": "stdout",
     "output_type": "stream",
     "text": [
      "GOOD MORNING\n"
     ]
    }
   ],
   "source": [
    "# Function 15: upper()\n",
    "# Concept: Converts all characters in the string to uppercase.\n",
    "# Example Question: Convert 'good morning' to uppercase.\n",
    "text = 'good morning'\n",
    "result = text.upper()\n",
    "print(result)"
   ]
  }
 ],
 "metadata": {
  "kernelspec": {
   "display_name": "Python 3",
   "language": "python",
   "name": "python3"
  },
  "language_info": {
   "codemirror_mode": {
    "name": "ipython",
    "version": 3
   },
   "file_extension": ".py",
   "mimetype": "text/x-python",
   "name": "python",
   "nbconvert_exporter": "python",
   "pygments_lexer": "ipython3",
   "version": "3.12.4"
  }
 },
 "nbformat": 4,
 "nbformat_minor": 2
}

{
 "cells": [
  {
   "cell_type": "markdown",
   "metadata": {},
   "source": [
    "Write a Python function using regular expressions to extract all email addresses from a given string. Test it with the input: 'Contact us at support@example.com and sales@example.org."
   ]
  },
  {
   "cell_type": "code",
   "execution_count": 1,
   "metadata": {},
   "outputs": [
    {
     "name": "stdout",
     "output_type": "stream",
     "text": [
      "['support@example.com', 'sales@example.org']\n"
     ]
    }
   ],
   "source": [
    "import re\n",
    "\n",
    "def extract_emails(text):\n",
    "  \"\"\"\n",
    "  Extracts all email addresses from the given text using regular expressions.\n",
    "\n",
    "  Args:\n",
    "      text: The input text.\n",
    "\n",
    "  Returns:\n",
    "      A list of extracted email addresses.\n",
    "  \"\"\"\n",
    "\n",
    "  # Email regex pattern\n",
    "  email_regex = r\"[a-z0-9!#$%&'*+/=?^_`{|}~-]+(?:\\.[a-z0-9!#$%&'*+/=?^_`{|}~-]+)*@(?:[a-z0-9](?:[a-z0-9-]*[a-z0-9])?\\.)+[a-z]{2,}\"\n",
    "\n",
    "  # Find all matches of the email regex pattern\n",
    "  matches = re.findall(email_regex, text)\n",
    "\n",
    "  return matches\n",
    "\n",
    "# Test the function\n",
    "input_text = \"Contact us at support@example.com and sales@example.org.\"\n",
    "emails = extract_emails(input_text)\n",
    "print(emails)"
   ]
  }
 ],
 "metadata": {
  "kernelspec": {
   "display_name": "Python 3",
   "language": "python",
   "name": "python3"
  },
  "language_info": {
   "codemirror_mode": {
    "name": "ipython",
    "version": 3
   },
   "file_extension": ".py",
   "mimetype": "text/x-python",
   "name": "python",
   "nbconvert_exporter": "python",
   "pygments_lexer": "ipython3",
   "version": "3.12.4"
  }
 },
 "nbformat": 4,
 "nbformat_minor": 2
}

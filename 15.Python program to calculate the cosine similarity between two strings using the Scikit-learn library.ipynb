{
 "cells": [
  {
   "cell_type": "markdown",
   "metadata": {},
   "source": [
    "Write a Python program to calculate the cosine similarity between two strings using the Scikit-learn library. You can use the TfidfVectorizer' class to transform the text into vectors."
   ]
  },
  {
   "cell_type": "code",
   "execution_count": 2,
   "metadata": {},
   "outputs": [
    {
     "name": "stdout",
     "output_type": "stream",
     "text": [
      "Collecting scikit-learn\n",
      "  Downloading scikit_learn-1.6.1-cp312-cp312-win_amd64.whl.metadata (15 kB)\n",
      "Requirement already satisfied: numpy>=1.19.5 in c:\\python312\\lib\\site-packages (from scikit-learn) (1.26.4)\n",
      "Requirement already satisfied: scipy>=1.6.0 in c:\\python312\\lib\\site-packages (from scikit-learn) (1.13.1)\n",
      "Requirement already satisfied: joblib>=1.2.0 in c:\\python312\\lib\\site-packages (from scikit-learn) (1.4.2)\n",
      "Collecting threadpoolctl>=3.1.0 (from scikit-learn)\n",
      "  Downloading threadpoolctl-3.5.0-py3-none-any.whl.metadata (13 kB)\n",
      "Downloading scikit_learn-1.6.1-cp312-cp312-win_amd64.whl (11.1 MB)\n",
      "   ---------------------------------------- 0.0/11.1 MB ? eta -:--:--\n",
      "   ---------------------------------------- 0.0/11.1 MB ? eta -:--:--\n",
      "   ---------------------------------------- 0.1/11.1 MB 1.7 MB/s eta 0:00:07\n",
      "   - -------------------------------------- 0.5/11.1 MB 5.4 MB/s eta 0:00:02\n",
      "   --- ------------------------------------ 0.9/11.1 MB 6.5 MB/s eta 0:00:02\n",
      "   ----- ---------------------------------- 1.6/11.1 MB 7.7 MB/s eta 0:00:02\n",
      "   ------- -------------------------------- 2.1/11.1 MB 8.8 MB/s eta 0:00:02\n",
      "   -------- ------------------------------- 2.3/11.1 MB 9.3 MB/s eta 0:00:01\n",
      "   --------- ------------------------------ 2.5/11.1 MB 7.7 MB/s eta 0:00:02\n",
      "   ----------- ---------------------------- 3.3/11.1 MB 8.7 MB/s eta 0:00:01\n",
      "   ------------- -------------------------- 3.7/11.1 MB 8.5 MB/s eta 0:00:01\n",
      "   --------------- ------------------------ 4.3/11.1 MB 9.1 MB/s eta 0:00:01\n",
      "   ----------------- ---------------------- 4.8/11.1 MB 9.2 MB/s eta 0:00:01\n",
      "   ------------------- -------------------- 5.3/11.1 MB 9.4 MB/s eta 0:00:01\n",
      "   --------------------- ------------------ 5.8/11.1 MB 9.6 MB/s eta 0:00:01\n",
      "   ---------------------- ----------------- 6.4/11.1 MB 9.7 MB/s eta 0:00:01\n",
      "   ------------------------- -------------- 7.0/11.1 MB 10.0 MB/s eta 0:00:01\n",
      "   -------------------------- ------------- 7.3/11.1 MB 9.7 MB/s eta 0:00:01\n",
      "   ---------------------------- ----------- 7.8/11.1 MB 9.8 MB/s eta 0:00:01\n",
      "   ----------------------------- ---------- 8.2/11.1 MB 9.7 MB/s eta 0:00:01\n",
      "   ------------------------------- -------- 8.7/11.1 MB 9.7 MB/s eta 0:00:01\n",
      "   ------------------------------- -------- 8.9/11.1 MB 9.5 MB/s eta 0:00:01\n",
      "   --------------------------------- ------ 9.4/11.1 MB 9.5 MB/s eta 0:00:01\n",
      "   ---------------------------------- ----- 9.7/11.1 MB 9.4 MB/s eta 0:00:01\n",
      "   ----------------------------------- ---- 9.8/11.1 MB 9.1 MB/s eta 0:00:01\n",
      "   ------------------------------------ --- 10.2/11.1 MB 9.0 MB/s eta 0:00:01\n",
      "   ------------------------------------- -- 10.4/11.1 MB 9.4 MB/s eta 0:00:01\n",
      "   -------------------------------------- - 10.6/11.1 MB 9.1 MB/s eta 0:00:01\n",
      "   ---------------------------------------  11.0/11.1 MB 9.0 MB/s eta 0:00:01\n",
      "   ---------------------------------------  11.1/11.1 MB 9.0 MB/s eta 0:00:01\n",
      "   ---------------------------------------- 11.1/11.1 MB 8.6 MB/s eta 0:00:00\n",
      "Downloading threadpoolctl-3.5.0-py3-none-any.whl (18 kB)\n",
      "Installing collected packages: threadpoolctl, scikit-learn\n",
      "Successfully installed scikit-learn-1.6.1 threadpoolctl-3.5.0\n",
      "Note: you may need to restart the kernel to use updated packages.\n"
     ]
    },
    {
     "name": "stderr",
     "output_type": "stream",
     "text": [
      "\n",
      "[notice] A new release of pip is available: 24.0 -> 24.3.1\n",
      "[notice] To update, run: python.exe -m pip install --upgrade pip\n"
     ]
    }
   ],
   "source": [
    "pip install scikit-learn"
   ]
  },
  {
   "cell_type": "code",
   "execution_count": 3,
   "metadata": {},
   "outputs": [
    {
     "name": "stdout",
     "output_type": "stream",
     "text": [
      "Cosine Similarity: 0.8181802073667197\n"
     ]
    }
   ],
   "source": [
    "\n",
    "from sklearn.feature_extraction.text import TfidfVectorizer\n",
    "from sklearn.metrics.pairwise import cosine_similarity\n",
    "\n",
    "def cosine_sim(text1, text2):\n",
    "  \"\"\"\n",
    "  Calculates the cosine similarity between two strings.\n",
    "\n",
    "  Args:\n",
    "    text1: The first string.\n",
    "    text2: The second string.\n",
    "\n",
    "  Returns:\n",
    "    The cosine similarity score between the two strings.\n",
    "  \"\"\"\n",
    "\n",
    "  # Create a TfidfVectorizer object\n",
    "  vectorizer = TfidfVectorizer(stop_words='english')\n",
    "\n",
    "  # Create a list of strings\n",
    "  texts = [text1, text2]\n",
    "\n",
    "  # Generate the TF-IDF vectors\n",
    "  tfidf_matrix = vectorizer.fit_transform(texts)\n",
    "\n",
    "  # Calculate the cosine similarity\n",
    "  cosine_sim = cosine_similarity(tfidf_matrix[0], tfidf_matrix[1])\n",
    "\n",
    "  return cosine_sim[0][0]\n",
    "\n",
    "# Example usage\n",
    "text1 = \"This is the first document.\"\n",
    "text2 = \"This document is the second document.\"\n",
    "\n",
    "similarity_score = cosine_sim(text1, text2)\n",
    "print(\"Cosine Similarity:\", similarity_score)"
   ]
  }
 ],
 "metadata": {
  "kernelspec": {
   "display_name": "Python 3",
   "language": "python",
   "name": "python3"
  },
  "language_info": {
   "codemirror_mode": {
    "name": "ipython",
    "version": 3
   },
   "file_extension": ".py",
   "mimetype": "text/x-python",
   "name": "python",
   "nbconvert_exporter": "python",
   "pygments_lexer": "ipython3",
   "version": "3.12.4"
  }
 },
 "nbformat": 4,
 "nbformat_minor": 2
}

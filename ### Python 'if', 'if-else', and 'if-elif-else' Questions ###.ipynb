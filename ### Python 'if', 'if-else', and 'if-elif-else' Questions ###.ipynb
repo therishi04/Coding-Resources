{
 "cells": [
  {
   "cell_type": "code",
   "execution_count": 4,
   "metadata": {},
   "outputs": [],
   "source": [
    "### Python 'if', 'if-else', and 'if-elif-else' Questions ###"
   ]
  },
  {
   "cell_type": "code",
   "execution_count": 5,
   "metadata": {},
   "outputs": [
    {
     "name": "stdout",
     "output_type": "stream",
     "text": [
      "The number is positive.\n"
     ]
    }
   ],
   "source": [
    "# 1. Write a program to check if a number is positive or negative.\n",
    "     #Hint: Use 'if-else' and compare the number with 0.\n",
    "\n",
    "number = float(input(\"Enter a number: \"))\n",
    "if number >= 0:\n",
    "    print(\"The number is positive.\")\n",
    "else:\n",
    "    print(\"The number is negative.\")"
   ]
  },
  {
   "cell_type": "code",
   "execution_count": 6,
   "metadata": {},
   "outputs": [
    {
     "name": "stdout",
     "output_type": "stream",
     "text": [
      "The number is odd.\n"
     ]
    }
   ],
   "source": [
    "# 2. Write a program to check if a number is even or odd.\n",
    "     #Hint: Use 'if-else' and the modulo operator (%).\n",
    "number = int(input(\"Enter a number: \"))\n",
    "if number % 2 == 0:\n",
    "    print(\"The number is even.\")\n",
    "else:\n",
    "    print(\"The number is odd.\")"
   ]
  },
  {
   "cell_type": "code",
   "execution_count": 7,
   "metadata": {},
   "outputs": [
    {
     "name": "stdout",
     "output_type": "stream",
     "text": [
      "The number is positive.\n"
     ]
    }
   ],
   "source": [
    "# 3. Write a program to check if a number is zero, positive, or negative.\n",
    "     #Hint: Use 'if-elif-else' to handle all three cases.\n",
    "number = float(input(\"Enter a number: \"))\n",
    "if number == 0:\n",
    "    print(\"The number is zero.\")\n",
    "elif number > 0:\n",
    "    print(\"The number is positive.\")\n",
    "else:\n",
    "    print(\"The number is negative.\")"
   ]
  },
  {
   "cell_type": "code",
   "execution_count": 9,
   "metadata": {},
   "outputs": [
    {
     "name": "stdout",
     "output_type": "stream",
     "text": [
      "The number is divisible by both 2 and 3.\n"
     ]
    }
   ],
   "source": [
    "#  4. Write a program to check if a number is divisible by both 2 and 3.\n",
    "      #Hint: Use 'if-else' and the logical 'and' operator.\n",
    "number = int(input(\"Enter a number: \"))\n",
    "if number % 2 == 0 and number % 3 == 0:\n",
    "    print(\"The number is divisible by both 2 and 3.\")\n",
    "else:\n",
    "    print(\"The number is not divisible by both 2 and 3.\")"
   ]
  },
  {
   "cell_type": "code",
   "execution_count": 10,
   "metadata": {},
   "outputs": [
    {
     "name": "stdout",
     "output_type": "stream",
     "text": [
      "The number is divisible by 3.\n"
     ]
    }
   ],
   "source": [
    "# 5. Write a program to check if a number is divisible by 2, 3, or neither.\n",
    "     #Hint: Use 'if-elif-else' and the modulo operator (%).\n",
    "number = int(input(\"Enter a number: \"))\n",
    "if number % 2 == 0:\n",
    "    print(\"The number is divisible by 2.\")\n",
    "elif number % 3 == 0:\n",
    "    print(\"The number is divisible by 3.\")\n",
    "else:\n",
    "    print(\"The number is not divisible by 2 or 3.\")"
   ]
  },
  {
   "cell_type": "code",
   "execution_count": 11,
   "metadata": {},
   "outputs": [
    {
     "name": "stdout",
     "output_type": "stream",
     "text": [
      "The number is less than 100.\n"
     ]
    }
   ],
   "source": [
    "# 6. Write a program to check if a number is greater than, less than, or equal to 100.\n",
    "     #Hint: Use 'if-elif-else' to cover all cases.\n",
    "number = float(input(\"Enter a number: \"))\n",
    "if number > 100:\n",
    "    print(\"The number is greater than 100.\")\n",
    "elif number < 100:\n",
    "    print(\"The number is less than 100.\")\n",
    "else:\n",
    "    print(\"The number is equal to 100.\")"
   ]
  },
  {
   "cell_type": "code",
   "execution_count": 12,
   "metadata": {},
   "outputs": [
    {
     "name": "stdout",
     "output_type": "stream",
     "text": [
      "The number is between 51 and 100.\n"
     ]
    }
   ],
   "source": [
    "# 7. Write a program to check if a number is between 1 and 50, between 51 and 100, or above 100.\n",
    "     #Hint: Use 'if-elif-else' with appropriate comparison operators.\n",
    "number = float(input(\"Enter a number: \"))\n",
    "if 1 <= number <= 50:\n",
    "    print(\"The number is between 1 and 50.\")\n",
    "elif 51 <= number <= 100:\n",
    "    print(\"The number is between 51 and 100.\")\n",
    "else:\n",
    "    print(\"The number is above 100.\")"
   ]
  },
  {
   "cell_type": "code",
   "execution_count": 13,
   "metadata": {},
   "outputs": [
    {
     "name": "stdout",
     "output_type": "stream",
     "text": [
      "The number is not a multiple of 10.\n"
     ]
    }
   ],
   "source": [
    "# 8. Write a program to check if a number is a multiple of 10 or not.\n",
    "     #Hint: Use 'if-else' and the modulo operator (%).\n",
    "number = int(input(\"Enter a number: \"))\n",
    "if number % 10 == 0:\n",
    "    print(\"The number is a multiple of 10.\")\n",
    "else:\n",
    "    print(\"The number is not a multiple of 10.\")"
   ]
  },
  {
   "cell_type": "code",
   "execution_count": 14,
   "metadata": {},
   "outputs": [
    {
     "name": "stdout",
     "output_type": "stream",
     "text": [
      "The number is even.\n"
     ]
    }
   ],
   "source": [
    " # 9. Write a program to check if a number is odd, even, or zero.\n",
    "     #Hint: Use 'if-elif-else' with logical checks.\n",
    "number = int(input(\"Enter a number: \"))\n",
    "if number == 0:\n",
    "    print(\"The number is zero.\")\n",
    "elif number % 2 == 0:\n",
    "    print(\"The number is even.\")\n",
    "else:\n",
    "    print(\"The number is odd.\")"
   ]
  },
  {
   "cell_type": "code",
   "execution_count": 15,
   "metadata": {},
   "outputs": [
    {
     "name": "stdout",
     "output_type": "stream",
     "text": [
      "The number is large.\n"
     ]
    }
   ],
   "source": [
    "#  10. Write a program to classify a number as small (less than 10), medium (10-50), or large (greater than 50).\n",
    "       #Hint: Use 'if-elif-else' with range checks.\n",
    "number = float(input(\"Enter a number: \"))\n",
    "if number < 10:\n",
    "    print(\"The number is small.\")\n",
    "elif 10 <= number <= 50:\n",
    "    print(\"The number is medium.\")\n",
    "else:\n",
    "    print(\"The number is large.\")"
   ]
  }
 ],
 "metadata": {
  "kernelspec": {
   "display_name": "Python 3",
   "language": "python",
   "name": "python3"
  },
  "language_info": {
   "codemirror_mode": {
    "name": "ipython",
    "version": 3
   },
   "file_extension": ".py",
   "mimetype": "text/x-python",
   "name": "python",
   "nbconvert_exporter": "python",
   "pygments_lexer": "ipython3",
   "version": "3.12.4"
  }
 },
 "nbformat": 4,
 "nbformat_minor": 2
}

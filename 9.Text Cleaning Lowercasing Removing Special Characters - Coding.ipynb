{
 "cells": [
  {
   "cell_type": "markdown",
   "metadata": {},
   "source": [
    "Text Cleaning Lowercasing Removing Special Characters - Coding\n",
    "\n",
    "\n",
    "Write a Python function to clean a given text by removing special characters and converting it to lowercase. Test it with the input: 'Hello, World! Welcome to NLP 101"
   ]
  },
  {
   "cell_type": "code",
   "execution_count": 1,
   "metadata": {},
   "outputs": [
    {
     "name": "stdout",
     "output_type": "stream",
     "text": [
      "hello world welcome to nlp 101\n"
     ]
    }
   ],
   "source": [
    "import re\n",
    "\n",
    "def clean_text(text):\n",
    "  \"\"\"\n",
    "  Cleans the given text by removing special characters and converting it to lowercase.\n",
    "\n",
    "  Args:\n",
    "      text: The input text.\n",
    "\n",
    "  Returns:\n",
    "      The cleaned text.\n",
    "  \"\"\"\n",
    "  text = text.lower()  # Convert to lowercase\n",
    "  text = re.sub(r\"[^a-z0-9\\s]\", \"\", text)  # Remove special characters\n",
    "  return text\n",
    "\n",
    "# Test the function\n",
    "input_text = \"Hello, World! Welcome to NLP 101\"\n",
    "cleaned_text = clean_text(input_text)\n",
    "print(cleaned_text)"
   ]
  }
 ],
 "metadata": {
  "kernelspec": {
   "display_name": "Python 3",
   "language": "python",
   "name": "python3"
  },
  "language_info": {
   "codemirror_mode": {
    "name": "ipython",
    "version": 3
   },
   "file_extension": ".py",
   "mimetype": "text/x-python",
   "name": "python",
   "nbconvert_exporter": "python",
   "pygments_lexer": "ipython3",
   "version": "3.12.4"
  }
 },
 "nbformat": 4,
 "nbformat_minor": 2
}

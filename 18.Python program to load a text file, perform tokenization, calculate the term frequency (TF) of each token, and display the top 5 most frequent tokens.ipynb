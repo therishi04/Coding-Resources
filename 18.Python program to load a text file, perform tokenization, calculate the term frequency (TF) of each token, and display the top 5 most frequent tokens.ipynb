{
 "cells": [
  {
   "cell_type": "markdown",
   "metadata": {},
   "source": [
    "Write a Python program to load a text file, perform tokenization, calculate the term frequency (TF) of each token, and display the top 5 most frequent tokens."
   ]
  },
  {
   "cell_type": "code",
   "execution_count": 1,
   "metadata": {},
   "outputs": [
    {
     "name": "stdout",
     "output_type": "stream",
     "text": [
      "Error: File not found. Please check the file path.\n"
     ]
    }
   ],
   "source": [
    "import nltk\n",
    "from nltk.tokenize import word_tokenize\n",
    "from collections import Counter\n",
    "import string\n",
    "\n",
    "# Function to calculate term frequency (TF)\n",
    "def calculate_tf(tokens):\n",
    "    # Create a Counter object to count the frequency of each token\n",
    "    return Counter(tokens)\n",
    "\n",
    "# Function to read a text file and perform tokenization\n",
    "def process_text(file_path):\n",
    "    try:\n",
    "        # Read the text file\n",
    "        with open(file_path, 'r') as file:\n",
    "            text = file.read()\n",
    "    except FileNotFoundError:\n",
    "        print(\"Error: File not found. Please check the file path.\")\n",
    "        return []\n",
    "\n",
    "    # Tokenize the text\n",
    "    tokens = word_tokenize(text)\n",
    "\n",
    "    # Remove punctuation and convert to lowercase\n",
    "    tokens = [word.lower() for word in tokens if word.isalpha()]\n",
    "    \n",
    "    return tokens\n",
    "\n",
    "def main():\n",
    "    # Path to the text file\n",
    "    file_path = \"sample.txt\"  # Replace with your file path\n",
    "\n",
    "    # Process the text and tokenize\n",
    "    tokens = process_text(file_path)\n",
    "\n",
    "    if tokens:\n",
    "        # Calculate term frequency\n",
    "        tf = calculate_tf(tokens)\n",
    "\n",
    "        # Display the top 5 most frequent tokens\n",
    "        print(\"Top 5 most frequent tokens:\")\n",
    "        for token, frequency in tf.most_common(5):\n",
    "            print(f\"{token}: {frequency}\")\n",
    "\n",
    "if __name__ == \"__main__\":\n",
    "    main()\n"
   ]
  },
  {
   "cell_type": "code",
   "execution_count": 3,
   "metadata": {},
   "outputs": [
    {
     "name": "stdout",
     "output_type": "stream",
     "text": [
      "Error: File not found. Please check the file path.\n"
     ]
    }
   ],
   "source": [
    "from sklearn.feature_extraction.text import TfidfVectorizer\n",
    "import nltk\n",
    "\n",
    "# Function to load text from a file\n",
    "def load_text(file_path):\n",
    "    try:\n",
    "        with open(file_path, 'r') as file:\n",
    "            return file.read()\n",
    "    except FileNotFoundError:\n",
    "        print(\"Error: File not found. Please check the file path.\")\n",
    "        return \"\"\n",
    "\n",
    "# Function to perform tokenization and calculate term frequency\n",
    "def calculate_tf(text):\n",
    "    # Initialize the TF-IDF Vectorizer\n",
    "    vectorizer = TfidfVectorizer(stop_words='english', use_idf=False)\n",
    "\n",
    "    # Fit and transform the text into a matrix of term frequencies\n",
    "    tf_matrix = vectorizer.fit_transform([text])\n",
    "\n",
    "    # Get the terms (tokens) and their corresponding term frequencies\n",
    "    terms = vectorizer.get_feature_names_out()\n",
    "    tf_values = tf_matrix.toarray().flatten()\n",
    "\n",
    "    # Create a list of tuples containing (term, frequency)\n",
    "    term_freq = list(zip(terms, tf_values))\n",
    "\n",
    "    # Sort the terms by frequency in descending order and return top 5\n",
    "    sorted_term_freq = sorted(term_freq, key=lambda x: x[1], reverse=True)\n",
    "    return sorted_term_freq[:5]\n",
    "\n",
    "def main():\n",
    "    # Path to the text file\n",
    "    file_path = \"sample.txt\"  # Replace with your file path\n",
    "\n",
    "    # Load the text from the file\n",
    "    text = load_text(file_path)\n",
    "\n",
    "    if text:\n",
    "        # Calculate and display the top 5 most frequent tokens\n",
    "        top_tokens = calculate_tf(text)\n",
    "        \n",
    "        print(\"Top 5 most frequent tokens:\")\n",
    "        for token, frequency in top_tokens:\n",
    "            print(f\"{token}: {frequency}\")\n",
    "\n",
    "if __name__ == \"__main__\":\n",
    "    main()\n"
   ]
  },
  {
   "cell_type": "code",
   "execution_count": null,
   "metadata": {},
   "outputs": [],
   "source": []
  }
 ],
 "metadata": {
  "kernelspec": {
   "display_name": "Python 3",
   "language": "python",
   "name": "python3"
  },
  "language_info": {
   "codemirror_mode": {
    "name": "ipython",
    "version": 3
   },
   "file_extension": ".py",
   "mimetype": "text/x-python",
   "name": "python",
   "nbconvert_exporter": "python",
   "pygments_lexer": "ipython3",
   "version": "3.12.4"
  }
 },
 "nbformat": 4,
 "nbformat_minor": 2
}

{
 "cells": [
  {
   "cell_type": "code",
   "execution_count": 1,
   "metadata": {},
   "outputs": [],
   "source": [
    "### Python Basic Questions on While Loop ###"
   ]
  },
  {
   "cell_type": "code",
   "execution_count": 2,
   "metadata": {},
   "outputs": [
    {
     "name": "stdout",
     "output_type": "stream",
     "text": [
      "1\n",
      "2\n",
      "3\n",
      "4\n",
      "5\n",
      "6\n",
      "7\n",
      "8\n",
      "9\n",
      "10\n"
     ]
    }
   ],
   "source": [
    "# 1. Write a while loop that prints numbers from 1 to 10. (Hint: Use a counter variable and increment it each iteration.)\n",
    "\n",
    "counter = 1\n",
    "while counter <= 10:\n",
    "    print(counter)\n",
    "    counter += 1"
   ]
  },
  {
   "cell_type": "code",
   "execution_count": 3,
   "metadata": {},
   "outputs": [
    {
     "name": "stdout",
     "output_type": "stream",
     "text": [
      "Exiting the loop.\n"
     ]
    }
   ],
   "source": [
    "# 2. Create a while loop that continues to accept input from the user until the user enters 'exit'. (Hint:Use a break statement.)\n",
    "\n",
    "while True:\n",
    "    user_input = input(\"Enter something (type 'exit' to quit): \")\n",
    "    if user_input.lower() == 'exit':\n",
    "        print(\"Exiting the loop.\")\n",
    "        break"
   ]
  },
  {
   "cell_type": "code",
   "execution_count": 4,
   "metadata": {},
   "outputs": [
    {
     "name": "stdout",
     "output_type": "stream",
     "text": [
      "The sum of even numbers between 1 and 50 is: 650\n"
     ]
    }
   ],
   "source": [
    "# 3. Write a program using a while loop to find the sum of all even numbers between 1 and 50. (Hint:Use a conditional check inside the loop.)\n",
    "\n",
    "sum_even = 0\n",
    "number = 1\n",
    "while number <= 50:\n",
    "    if number % 2 == 0:\n",
    "        sum_even += number\n",
    "    number += 1\n",
    "print(\"The sum of even numbers between 1 and 50 is:\", sum_even)"
   ]
  },
  {
   "cell_type": "code",
   "execution_count": 5,
   "metadata": {},
   "outputs": [
    {
     "name": "stdout",
     "output_type": "stream",
     "text": [
      "Current value: 56.0\n",
      "Current value: 28.0\n",
      "Current value: 14.0\n",
      "Current value: 7.0\n",
      "Current value: 3.5\n",
      "Current value: 1.75\n"
     ]
    }
   ],
   "source": [
    "# 4. Implement a while loop that keeps halving a number entered by the user until the number is less than 1. (Hint: Update the number inside the loop.)\n",
    "\n",
    "number = float(input(\"Enter a number to halve: \"))\n",
    "while number >= 1:\n",
    "    print(f\"Current value: {number}\")\n",
    "    number /= 2\n"
   ]
  },
  {
   "cell_type": "code",
   "execution_count": 6,
   "metadata": {},
   "outputs": [
    {
     "name": "stdout",
     "output_type": "stream",
     "text": [
      "Reversed string: 4321\n"
     ]
    }
   ],
   "source": [
    "#  5. Create a while loop that reverses a string entered by the user. (Hint: Use string slicing or build the reversed string iteratively.)\n",
    "\n",
    "user_string = input(\"Enter a string to reverse: \")\n",
    "reversed_string = \"\"\n",
    "index = len(user_string) - 1\n",
    "while index >= 0:\n",
    "    reversed_string += user_string[index]\n",
    "    index -= 1\n",
    "print(\"Reversed string:\", reversed_string)"
   ]
  }
 ],
 "metadata": {
  "kernelspec": {
   "display_name": "Python 3",
   "language": "python",
   "name": "python3"
  },
  "language_info": {
   "codemirror_mode": {
    "name": "ipython",
    "version": 3
   },
   "file_extension": ".py",
   "mimetype": "text/x-python",
   "name": "python",
   "nbconvert_exporter": "python",
   "pygments_lexer": "ipython3",
   "version": "3.12.4"
  }
 },
 "nbformat": 4,
 "nbformat_minor": 2
}
